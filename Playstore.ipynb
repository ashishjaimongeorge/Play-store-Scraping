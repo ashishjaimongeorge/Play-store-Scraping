{
  "nbformat": 4,
  "nbformat_minor": 0,
  "metadata": {
    "colab": {
      "name": "Playstore.ipynb",
      "provenance": [],
      "collapsed_sections": []
    },
    "kernelspec": {
      "name": "python3",
      "display_name": "Python 3"
    }
  },
  "cells": [
    {
      "cell_type": "code",
      "metadata": {
        "id": "h4QyooQ8F6a_"
      },
      "source": [
        "!pip install google_play_scraper\n"
      ],
      "execution_count": null,
      "outputs": []
    },
    {
      "cell_type": "code",
      "metadata": {
        "colab": {
          "base_uri": "https://localhost:8080/"
        },
        "id": "TtMOW4UlF-CZ",
        "outputId": "42811d8d-837f-4717-ec4d-a3fc75dd911a"
      },
      "source": [
        "!pip install google_play_scraper\n",
        "import pandas as pd\n",
        "from google_play_scraper import Sort, reviews\n",
        "\n",
        "app_packages = ['com.ib.eHomeloans']  # change this acc to the app that u want to find\n",
        "\n",
        "app_reviews = []\n",
        "\n",
        "for ap in app_packages:\n",
        "    for score in list(range(1, 6)):\n",
        "        rvs, some = reviews(\n",
        "            ap,\n",
        "            lang='en',\n",
        "            country='in',\n",
        "            sort=Sort.MOST_RELEVANT,\n",
        "            count=50000,\n",
        "            filter_score_with=score\n",
        "        )\n",
        "        for r in rvs:\n",
        "            r['sortOrder'] = 'Most relevant'\n",
        "            r['appId'] = ap\n",
        "        app_reviews.extend(rvs)\n",
        "\n",
        "app_reviews_df = pd.DataFrame(app_reviews)\n",
        "\n",
        "app_reviews_df.rename(columns={'userName': 'Author', 'content': 'review', 'at': 'date', 'score': 'Review rating'},\n",
        "                      inplace=True)\n",
        "\n",
        "app_reviews_df = app_reviews_df.loc[:, ('Author', 'review', 'date', 'Review rating')]\n",
        "\n",
        "app_reviews_df['location'] = \"India\"\n",
        "app_reviews_df['Source'] = \"Googleplay\"\n",
        "app_reviews_df['Brand'] = \"CashE\"  # change this according to the brand that u want to mention\n",
        "app_reviews_df['Root'] = \"https://play.google.com/store/apps/details?id=co.tslc.cashe.android&hl=en_US&gl=US&showAllReviews=true\"\n",
        "# change this root also acc to the link u want to give\n",
        "l = len(app_reviews_df)\n",
        "for i in range(0, l):\n",
        "    app_reviews_df.loc[i, 'date'] = app_reviews_df.loc[i, 'date'].date()\n",
        "print(\"Scraping done\")\n",
        "app_reviews_df.to_csv('3_insurance_CashE.csv', index=None, header=True)"
      ],
      "execution_count": null,
      "outputs": [
        {
          "output_type": "stream",
          "text": [
            "Scraping done\n"
          ],
          "name": "stdout"
        }
      ]
    }
  ]
}